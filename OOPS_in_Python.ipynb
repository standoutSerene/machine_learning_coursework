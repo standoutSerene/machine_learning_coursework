{
 "cells": [
  {
   "cell_type": "code",
   "execution_count": 2,
   "metadata": {},
   "outputs": [],
   "source": [
    "# till now we were working with procedure oriented programming style\n",
    "# now we will see Object Oriented style\n",
    "# class is just a blueprint\n",
    "# class is like a new data type"
   ]
  },
  {
   "cell_type": "code",
   "execution_count": 3,
   "metadata": {},
   "outputs": [],
   "source": [
    "class Person():\n",
    "    pass"
   ]
  },
  {
   "cell_type": "code",
   "execution_count": 4,
   "metadata": {},
   "outputs": [],
   "source": [
    "p = Person()"
   ]
  },
  {
   "cell_type": "code",
   "execution_count": 5,
   "metadata": {},
   "outputs": [
    {
     "name": "stdout",
     "output_type": "stream",
     "text": [
      "<__main__.Person object at 0x000001A838EBB0B8>\n"
     ]
    }
   ],
   "source": [
    "print(p)"
   ]
  },
  {
   "cell_type": "code",
   "execution_count": 6,
   "metadata": {},
   "outputs": [
    {
     "name": "stdout",
     "output_type": "stream",
     "text": [
      "<class '__main__.Person'>\n"
     ]
    }
   ],
   "source": [
    "print(type(p))"
   ]
  },
  {
   "cell_type": "code",
   "execution_count": 7,
   "metadata": {},
   "outputs": [],
   "source": [
    "# inside a class,we can have data attributes and functions"
   ]
  },
  {
   "cell_type": "code",
   "execution_count": 8,
   "metadata": {},
   "outputs": [],
   "source": [
    "class Person():\n",
    "    def sayHi(self):\n",
    "        print(\"Hello\")"
   ]
  },
  {
   "cell_type": "code",
   "execution_count": 9,
   "metadata": {},
   "outputs": [],
   "source": [
    "p = Person()"
   ]
  },
  {
   "cell_type": "code",
   "execution_count": 11,
   "metadata": {},
   "outputs": [
    {
     "name": "stdout",
     "output_type": "stream",
     "text": [
      "Hello\n"
     ]
    }
   ],
   "source": [
    "p.sayHi()"
   ]
  },
  {
   "cell_type": "code",
   "execution_count": 13,
   "metadata": {},
   "outputs": [
    {
     "name": "stdout",
     "output_type": "stream",
     "text": [
      "thank you coding blocks\n"
     ]
    }
   ],
   "source": [
    "class Person():\n",
    "    def sayHi(self,name):\n",
    "        print(\"thank you \"+name)\n",
    "p = Person()\n",
    "p.sayHi(\"coding blocks\")"
   ]
  },
  {
   "cell_type": "code",
   "execution_count": 34,
   "metadata": {},
   "outputs": [],
   "source": [
    "class Person():\n",
    "    # class variable,common to all the objects of the same class\n",
    "    nationality = \"Indian\"\n",
    "    def __init__(self,pname,clg):\n",
    "        # instance variables,different for different instance of the same class\n",
    "        self.name = pname\n",
    "        self.college = clg\n",
    "        \n",
    "    def sayHi(self):\n",
    "        print(\"Hello \"+self.name+\" from \"+self.college)\n",
    "    def introduce(self):\n",
    "        print(\"My name is \",self.name)\n",
    "        print(\"I am from \",self.college)\n",
    "        print(\"I am \",self.nationality)"
   ]
  },
  {
   "cell_type": "code",
   "execution_count": 35,
   "metadata": {},
   "outputs": [
    {
     "name": "stdout",
     "output_type": "stream",
     "text": [
      "Hello cb from iit delhi\n",
      "My name is  cb\n",
      "I am from  iit delhi\n",
      "I am  Indian\n",
      "Hello Arnav from dtu\n",
      "My name is  Arnav\n",
      "I am from  dtu\n",
      "I am  Indian\n"
     ]
    }
   ],
   "source": [
    "p = Person(\"cb\",\"iit delhi\")\n",
    "p.sayHi()\n",
    "p.introduce()\n",
    "p2 = Person(\"Arnav\",\"dtu\")\n",
    "p2.sayHi()\n",
    "p2.introduce()"
   ]
  },
  {
   "cell_type": "code",
   "execution_count": 46,
   "metadata": {},
   "outputs": [],
   "source": [
    "class Dog():\n",
    "    color = \"Brown\"\n",
    "    # common for all the data members of the class\n",
    "    activities = []\n",
    "    \n",
    "    def __init__(self,breed):\n",
    "        self.breed = breed\n",
    "        \n",
    "    def addActivity(self,act):\n",
    "        self.activities.append(act)\n",
    "        \n",
    "    def doActivity(self):\n",
    "        print(self.breed)\n",
    "        print(self.activities)\n",
    "    "
   ]
  },
  {
   "cell_type": "code",
   "execution_count": 47,
   "metadata": {},
   "outputs": [],
   "source": [
    "d = Dog(\"German Shepherd\")\n",
    "d2 = Dog(\"Golden Retriever\")"
   ]
  },
  {
   "cell_type": "code",
   "execution_count": 48,
   "metadata": {},
   "outputs": [
    {
     "name": "stdout",
     "output_type": "stream",
     "text": [
      "German Shepherd\n",
      "[]\n",
      "Golden Retriever\n",
      "[]\n"
     ]
    }
   ],
   "source": [
    "d.doActivity()\n",
    "d2.doActivity()"
   ]
  },
  {
   "cell_type": "code",
   "execution_count": 51,
   "metadata": {},
   "outputs": [],
   "source": [
    "d.addActivity(\"High Jump\")\n",
    "d.addActivity(\"Roll Over\")"
   ]
  },
  {
   "cell_type": "code",
   "execution_count": 52,
   "metadata": {},
   "outputs": [],
   "source": [
    "d2.addActivity(\"Low Jump\")\n",
    "d2.addActivity(\"Roll Upside Down\")"
   ]
  },
  {
   "cell_type": "code",
   "execution_count": 53,
   "metadata": {},
   "outputs": [
    {
     "name": "stdout",
     "output_type": "stream",
     "text": [
      "German Shepherd\n",
      "['High Jump', 'High Jump', 'Roll Over', 'Low Jump', 'Roll Upside Down']\n",
      "Golden Retriever\n",
      "['High Jump', 'High Jump', 'Roll Over', 'Low Jump', 'Roll Upside Down']\n"
     ]
    }
   ],
   "source": [
    "d.doActivity()\n",
    "d2.doActivity()"
   ]
  },
  {
   "cell_type": "code",
   "execution_count": 128,
   "metadata": {},
   "outputs": [],
   "source": [
    "class Dog():\n",
    "    color = \"Brown\"\n",
    "    \n",
    "    def __init__(self,breed):\n",
    "        \"\"\"This method accepts the breed of the dog and initialises it\"\"\"\n",
    "        self.activities = []\n",
    "        self.breed = breed\n",
    "        \n",
    "    def addActivity(self,act):\n",
    "        self.activities.append(act)\n",
    "        \n",
    "    def __secretActivity(self):         # two underscores make this method private\n",
    "        print(\"Doing Secret Activity\",self.breed)\n",
    "        \n",
    "    def doActivity(self):\n",
    "        \"\"\"This is regarding dog activities\"\"\"\n",
    "        print(self.breed)\n",
    "        print(self.activities)\n",
    "        self.__secretActivity()\n",
    "    "
   ]
  },
  {
   "cell_type": "code",
   "execution_count": 129,
   "metadata": {},
   "outputs": [],
   "source": [
    "d = Dog(\"German Shepherd\")\n",
    "d2 = Dog(\"Golden Retriever\")"
   ]
  },
  {
   "cell_type": "code",
   "execution_count": 130,
   "metadata": {},
   "outputs": [
    {
     "name": "stdout",
     "output_type": "stream",
     "text": [
      "German Shepherd\n",
      "[]\n",
      "Doing Secret Activity German Shepherd\n",
      "Golden Retriever\n",
      "[]\n",
      "Doing Secret Activity Golden Retriever\n"
     ]
    }
   ],
   "source": [
    "d.doActivity()\n",
    "d2.doActivity()"
   ]
  },
  {
   "cell_type": "code",
   "execution_count": 131,
   "metadata": {},
   "outputs": [],
   "source": [
    "d.addActivity(\"High Jump\")\n",
    "d.addActivity(\"Roll Over\")"
   ]
  },
  {
   "cell_type": "code",
   "execution_count": 132,
   "metadata": {},
   "outputs": [],
   "source": [
    "d2.addActivity(\"Low Jump\")\n",
    "d2.addActivity(\"Roll Upside Down\")"
   ]
  },
  {
   "cell_type": "code",
   "execution_count": 133,
   "metadata": {},
   "outputs": [
    {
     "name": "stdout",
     "output_type": "stream",
     "text": [
      "German Shepherd\n",
      "['High Jump', 'Roll Over']\n",
      "Doing Secret Activity German Shepherd\n",
      "Golden Retriever\n",
      "['Low Jump', 'Roll Upside Down']\n",
      "Doing Secret Activity Golden Retriever\n"
     ]
    }
   ],
   "source": [
    "d.doActivity()\n",
    "#d.secretActivity()\n",
    "d2.doActivity()\n",
    "#d2.secretActivity()"
   ]
  },
  {
   "cell_type": "code",
   "execution_count": 134,
   "metadata": {},
   "outputs": [],
   "source": [
    "# Public versus Private"
   ]
  },
  {
   "cell_type": "code",
   "execution_count": 135,
   "metadata": {},
   "outputs": [],
   "source": [
    "# all the methods and class variables are public by default"
   ]
  },
  {
   "cell_type": "code",
   "execution_count": 136,
   "metadata": {},
   "outputs": [],
   "source": [
    "# private method -- cannot be accessed directly\n",
    "# either class can use this mehtod internally or we need to call a public method of the class to call this method"
   ]
  },
  {
   "cell_type": "code",
   "execution_count": 138,
   "metadata": {},
   "outputs": [],
   "source": [
    "Dog?"
   ]
  },
  {
   "cell_type": "code",
   "execution_count": 139,
   "metadata": {},
   "outputs": [],
   "source": [
    "d2.doActivity?"
   ]
  },
  {
   "cell_type": "code",
   "execution_count": null,
   "metadata": {},
   "outputs": [],
   "source": []
  }
 ],
 "metadata": {
  "kernelspec": {
   "display_name": "Python 3",
   "language": "python",
   "name": "python3"
  },
  "language_info": {
   "codemirror_mode": {
    "name": "ipython",
    "version": 3
   },
   "file_extension": ".py",
   "mimetype": "text/x-python",
   "name": "python",
   "nbconvert_exporter": "python",
   "pygments_lexer": "ipython3",
   "version": "3.6.5"
  }
 },
 "nbformat": 4,
 "nbformat_minor": 2
}
