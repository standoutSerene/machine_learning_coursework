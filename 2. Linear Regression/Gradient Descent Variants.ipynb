{
 "cells": [
  {
   "cell_type": "markdown",
   "metadata": {},
   "source": [
    "## Gradient Descent Variants\n",
    "- GD\n",
    "- Stochastic\n",
    "- Mini-Batch"
   ]
  },
  {
   "cell_type": "code",
   "execution_count": 1,
   "metadata": {},
   "outputs": [],
   "source": [
    "# GD may be slow"
   ]
  },
  {
   "cell_type": "markdown",
   "metadata": {},
   "source": [
    "### GD Algo\n",
    "- theta = random_init\n",
    "- while not converged\n",
    "-     for all the components theta[i] of theta vector\n",
    "-         theta[i] = theta[i] - learning_rate * deriv of J wrt theta[i]"
   ]
  },
  {
   "cell_type": "code",
   "execution_count": 3,
   "metadata": {},
   "outputs": [],
   "source": [
    "# we have to iterate over all the training examples for each of the steps , and for each of the\n",
    "# components of the theta vector"
   ]
  },
  {
   "cell_type": "code",
   "execution_count": 4,
   "metadata": {},
   "outputs": [],
   "source": [
    "# in mini-batch gradient descent, we approximate the gradient "
   ]
  },
  {
   "cell_type": "code",
   "execution_count": 6,
   "metadata": {},
   "outputs": [],
   "source": [
    "# we divide our training data into batches"
   ]
  },
  {
   "cell_type": "code",
   "execution_count": 8,
   "metadata": {},
   "outputs": [],
   "source": [
    "# instead of iterating over the entire data set, we just iterate over the batch\n",
    "# and we hence approximate the gradient by the gradient of the batch, \n",
    "# which can be computed efficiently"
   ]
  },
  {
   "cell_type": "markdown",
   "metadata": {},
   "source": [
    "### Algo\n",
    "- batch size = r\n",
    "- total examples = m\n",
    "- m/r batches will be there\n",
    "- theta = random_init()\n",
    "- while not converged\n",
    "- for each of the batch\n",
    "- update each of the component of the theta vector, and in the summation part of the derivative\n",
    "- of the gradient, use only the examples of that batch\n",
    "- the summation goes from the index (b-1)*r + 1 to the index b*r\n",
    "- where b is the index of the batch number varying from the 1 to m/r\n",
    "- we would be updating theta at each of the batches, and will be taking more number of steps\n",
    "- since this is approximate, there will be noise in the gradient movements, and would land up\n",
    "- somewhere closer to the minima\n",
    "- observed to work in practice\n"
   ]
  },
  {
   "cell_type": "markdown",
   "metadata": {},
   "source": [
    "## Important Point\n",
    "consider a 2d plot of the contours\n",
    "then the direction vector will always be prependicular to any of the concentric circles\n",
    "but here since it is an approximation, it need not be so"
   ]
  },
  {
   "cell_type": "code",
   "execution_count": null,
   "metadata": {},
   "outputs": [],
   "source": []
  }
 ],
 "metadata": {
  "kernelspec": {
   "display_name": "Python 3",
   "language": "python",
   "name": "python3"
  },
  "language_info": {
   "codemirror_mode": {
    "name": "ipython",
    "version": 3
   },
   "file_extension": ".py",
   "mimetype": "text/x-python",
   "name": "python",
   "nbconvert_exporter": "python",
   "pygments_lexer": "ipython3",
   "version": "3.6.5"
  }
 },
 "nbformat": 4,
 "nbformat_minor": 2
}
