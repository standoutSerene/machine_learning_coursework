{
 "cells": [
  {
   "cell_type": "code",
   "execution_count": 4,
   "metadata": {},
   "outputs": [],
   "source": [
    "# Syntax errors are not Exceptions\n",
    "# these are the errors which occur during code execution\n",
    "# may be due to invalid input, file is missing, corrupt file, or division by zero\n",
    "# we'll learn about try and except statements"
   ]
  },
  {
   "cell_type": "code",
   "execution_count": 7,
   "metadata": {},
   "outputs": [],
   "source": [
    "# f = open(\"someMissingFile.txt\",'r')"
   ]
  },
  {
   "cell_type": "code",
   "execution_count": 8,
   "metadata": {},
   "outputs": [
    {
     "name": "stdout",
     "output_type": "stream",
     "text": [
      "something went wrong\n"
     ]
    }
   ],
   "source": [
    "try:\n",
    "    f = open(\"someMissingFile.txt\",'r')\n",
    "except:\n",
    "    print(\"something went wrong\")"
   ]
  },
  {
   "cell_type": "code",
   "execution_count": 9,
   "metadata": {},
   "outputs": [
    {
     "name": "stdout",
     "output_type": "stream",
     "text": [
      "Something went wrong\n",
      "<class 'Exception'>\n"
     ]
    }
   ],
   "source": [
    "try:\n",
    "    f = open(\"someMissingFile.txt\",'r')\n",
    "except Exception:\n",
    "    print(\"Something went wrong\")\n",
    "    print(Exception)"
   ]
  },
  {
   "cell_type": "code",
   "execution_count": 10,
   "metadata": {},
   "outputs": [
    {
     "name": "stdout",
     "output_type": "stream",
     "text": [
      "file doesn't exist. Please upload again\n"
     ]
    }
   ],
   "source": [
    "try:\n",
    "    f = open(\"someMissingFile.txt\",'r')\n",
    "except FileNotFoundError:\n",
    "    print(\"file doesn't exist. Please upload again\")\n",
    "except Exception:\n",
    "    print(\"Something went wrong\")\n",
    "    print(Exception)"
   ]
  },
  {
   "cell_type": "code",
   "execution_count": 11,
   "metadata": {},
   "outputs": [
    {
     "name": "stdout",
     "output_type": "stream",
     "text": [
      "Something went wrong\n",
      "<class 'Exception'>\n"
     ]
    }
   ],
   "source": [
    "try:\n",
    "    a = 10/0\n",
    "    f = open(\"someMissingFile.txt\",'r')\n",
    "except FileNotFoundError:\n",
    "    print(\"file doesn't exist. Please upload again\")\n",
    "except Exception:\n",
    "    print(\"Something went wrong\")\n",
    "    print(Exception)"
   ]
  },
  {
   "cell_type": "code",
   "execution_count": 12,
   "metadata": {},
   "outputs": [
    {
     "name": "stdout",
     "output_type": "stream",
     "text": [
      "Something went wrong\n",
      "<class 'Exception'>\n"
     ]
    }
   ],
   "source": [
    "try:\n",
    "    a = b\n",
    "    f = open(\"someMissingFile.txt\",'r')\n",
    "except FileNotFoundError:\n",
    "    print(\"file doesn't exist. Please upload again\")\n",
    "except Exception:\n",
    "    print(\"Something went wrong\")\n",
    "    print(Exception)"
   ]
  },
  {
   "cell_type": "code",
   "execution_count": 14,
   "metadata": {},
   "outputs": [
    {
     "name": "stdout",
     "output_type": "stream",
     "text": [
      "b is not defined\n",
      "<class 'NameError'>\n"
     ]
    }
   ],
   "source": [
    "try:\n",
    "    a = b\n",
    "    f = open(\"someMissingFile.txt\",'r')\n",
    "except FileNotFoundError:\n",
    "    print(\"file doesn't exist. Please upload again\")\n",
    "except NameError:\n",
    "    print(\"b is not defined\")\n",
    "    print(NameError)\n",
    "except Exception:\n",
    "    print(\"Something went wrong\")\n",
    "    print(Exception)"
   ]
  },
  {
   "cell_type": "code",
   "execution_count": 16,
   "metadata": {},
   "outputs": [
    {
     "name": "stdout",
     "output_type": "stream",
     "text": [
      "Enter your name prateek\n",
      "Try executed without error\n",
      "Form Submitted Successfully\n"
     ]
    }
   ],
   "source": [
    "try:\n",
    "    a = input(\"Enter your name \")\n",
    "except FileNotFoundError:\n",
    "    print(\"file doesn't exist. Please upload again\")\n",
    "except NameError:\n",
    "    print(\"b is not defined\")\n",
    "    print(NameError)\n",
    "except Exception:\n",
    "    print(\"Something went wrong\")\n",
    "    print(Exception)\n",
    "else:\n",
    "    print(\"Try executed without error\")\n",
    "    print(\"Form Submitted Successfully\")"
   ]
  },
  {
   "cell_type": "code",
   "execution_count": 17,
   "metadata": {},
   "outputs": [
    {
     "name": "stdout",
     "output_type": "stream",
     "text": [
      "Enter your name cd\n",
      "please enter a valid name\n",
      "<class 'Exception'>\n"
     ]
    }
   ],
   "source": [
    "try:\n",
    "    a = input(\"Enter your name \")\n",
    "    if(len(a)<3):\n",
    "        raise Exception\n",
    "except FileNotFoundError:\n",
    "    print(\"file doesn't exist. Please upload again\")\n",
    "except NameError:\n",
    "    print(\"b is not defined\")\n",
    "    print(NameError)\n",
    "except Exception:\n",
    "    print(\"please enter a valid name\")\n",
    "    print(Exception)\n",
    "else:\n",
    "    print(\"Try executed without error\")\n",
    "    print(\"Form Submitted Successfully\")"
   ]
  },
  {
   "cell_type": "code",
   "execution_count": 18,
   "metadata": {},
   "outputs": [
    {
     "name": "stdout",
     "output_type": "stream",
     "text": [
      "Enter your name cb\n",
      "please enter a valid name\n",
      "<class 'Exception'>\n",
      "it is always there\n"
     ]
    }
   ],
   "source": [
    "try:\n",
    "    a = input(\"Enter your name \")\n",
    "    if(len(a)<3):\n",
    "        raise Exception\n",
    "except FileNotFoundError:\n",
    "    print(\"file doesn't exist. Please upload again\")\n",
    "except NameError:\n",
    "    print(\"b is not defined\")\n",
    "    print(NameError)\n",
    "except Exception:\n",
    "    print(\"please enter a valid name\")\n",
    "    print(Exception)\n",
    "else:\n",
    "    print(\"Try executed without error\")\n",
    "    print(\"Form Submitted Successfully\")\n",
    "finally:\n",
    "    print(\"it is always there\")"
   ]
  },
  {
   "cell_type": "code",
   "execution_count": 19,
   "metadata": {},
   "outputs": [
    {
     "name": "stdout",
     "output_type": "stream",
     "text": [
      "Enter your name prateek bhaiya\n",
      "Try executed without error\n",
      "Form Submitted Successfully\n",
      "it is always there\n"
     ]
    }
   ],
   "source": [
    "try:\n",
    "    a = input(\"Enter your name \")\n",
    "    if(len(a)<3):\n",
    "        raise Exception\n",
    "except FileNotFoundError:\n",
    "    print(\"file doesn't exist. Please upload again\")\n",
    "except NameError:\n",
    "    print(\"b is not defined\")\n",
    "    print(NameError)\n",
    "except Exception:\n",
    "    print(\"please enter a valid name\")\n",
    "    print(Exception)\n",
    "else:\n",
    "    print(\"Try executed without error\")\n",
    "    print(\"Form Submitted Successfully\")\n",
    "finally:\n",
    "    print(\"it is always there\")"
   ]
  },
  {
   "cell_type": "code",
   "execution_count": null,
   "metadata": {},
   "outputs": [],
   "source": []
  }
 ],
 "metadata": {
  "kernelspec": {
   "display_name": "Python 3",
   "language": "python",
   "name": "python3"
  },
  "language_info": {
   "codemirror_mode": {
    "name": "ipython",
    "version": 3
   },
   "file_extension": ".py",
   "mimetype": "text/x-python",
   "name": "python",
   "nbconvert_exporter": "python",
   "pygments_lexer": "ipython3",
   "version": "3.6.5"
  }
 },
 "nbformat": 4,
 "nbformat_minor": 2
}
